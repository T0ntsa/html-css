{
 "cells": [
  {
   "cell_type": "code",
   "execution_count": 21,
   "metadata": {},
   "outputs": [
    {
     "name": "stdout",
     "output_type": "stream",
     "text": [
      "Gongratulations! You guessed in 1 attempts.\n"
     ]
    }
   ],
   "source": [
    "correct_name = \"Toni\"\n",
    "attempts = 0\n",
    "hint = -1\n",
    "\n",
    "while True:\n",
    "    guess = input(\"Guess the name: \")\n",
    "    attempts += 1\n",
    "\n",
    "    if guess == correct_name:\n",
    "        print(f\"Gongratulations! You guessed in {attempts} attempts.\")\n",
    "        break\n",
    "    else:\n",
    "        hint += 1\n",
    "        if hint <= len(correct_name):\n",
    "            print(f\"Hint: The name starts with '{correct_name[hint]}'\")\n",
    "\n",
    "        quit = input(\"Wrong guess. Do you want to quit? y/n\")\n",
    "        if quit == \"y\":\n",
    "            print(\"Game Over!\")\n",
    "            break"
   ]
  }
 ],
 "metadata": {
  "kernelspec": {
   "display_name": "Python 3",
   "language": "python",
   "name": "python3"
  },
  "language_info": {
   "codemirror_mode": {
    "name": "ipython",
    "version": 3
   },
   "file_extension": ".py",
   "mimetype": "text/x-python",
   "name": "python",
   "nbconvert_exporter": "python",
   "pygments_lexer": "ipython3",
   "version": "3.13.0"
  }
 },
 "nbformat": 4,
 "nbformat_minor": 2
}
