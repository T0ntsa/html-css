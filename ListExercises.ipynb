{
 "cells": [
  {
   "cell_type": "markdown",
   "metadata": {},
   "source": [
    "harkkalistaa"
   ]
  },
  {
   "cell_type": "code",
   "execution_count": 9,
   "metadata": {},
   "outputs": [
    {
     "name": "stdout",
     "output_type": "stream",
     "text": [
      "['listan 1', 'listan 2', 'listan 3', 'index 4 of list']\n",
      "listan 2\n",
      "index 4 of list\n"
     ]
    }
   ],
   "source": [
    "list = [\"listan 1\", \"listan 2\", \"listan 3\", \"index 4 of list\"]\n",
    "\n",
    "print(list)\n",
    "\n",
    "print(list[1])\n",
    "\n",
    "print (list[3])"
   ]
  },
  {
   "cell_type": "code",
   "execution_count": 64,
   "metadata": {},
   "outputs": [
    {
     "name": "stdout",
     "output_type": "stream",
     "text": [
      "sohva löytyy\n"
     ]
    }
   ],
   "source": [
    "furniture = [\"table\", \"shelf\", \"sofa\", \"bed\"]\n",
    "\n",
    "for a in furniture:\n",
    "    if a == \"sofa\":\n",
    "        print('sohva löytyy')\n",
    "        break\n",
    "else:\n",
    "    print('ei löydy')\n",
    "\n",
    "\n"
   ]
  },
  {
   "cell_type": "code",
   "execution_count": 67,
   "metadata": {},
   "outputs": [
    {
     "name": "stdout",
     "output_type": "stream",
     "text": [
      "NOTinDicenumbers\n"
     ]
    }
   ],
   "source": [
    "thrownDiceNumbers = [\"1\", \"2\", \"3\", \"4\", \"5\"]\n",
    "\n",
    "for i in thrownDiceNumbers:\n",
    "    if i == \"6\":\n",
    "        print('inDiceNumbers')\n",
    "        break\n",
    "else:\n",
    "    print('NOTinDicenumbers')"
   ]
  }
 ],
 "metadata": {
  "kernelspec": {
   "display_name": "Python 3",
   "language": "python",
   "name": "python3"
  },
  "language_info": {
   "codemirror_mode": {
    "name": "ipython",
    "version": 3
   },
   "file_extension": ".py",
   "mimetype": "text/x-python",
   "name": "python",
   "nbconvert_exporter": "python",
   "pygments_lexer": "ipython3",
   "version": "3.13.0"
  }
 },
 "nbformat": 4,
 "nbformat_minor": 2
}
