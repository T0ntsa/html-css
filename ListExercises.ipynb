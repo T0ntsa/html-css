{
 "cells": [
  {
   "cell_type": "markdown",
   "metadata": {},
   "source": [
    "harkkalistaa"
   ]
  },
  {
   "cell_type": "code",
   "execution_count": 9,
   "metadata": {},
   "outputs": [
    {
     "name": "stdout",
     "output_type": "stream",
     "text": [
      "['listan 1', 'listan 2', 'listan 3', 'index 4 of list']\n",
      "listan 2\n",
      "index 4 of list\n"
     ]
    }
   ],
   "source": [
    "list = [\"listan 1\", \"listan 2\", \"listan 3\", \"index 4 of list\"]\n",
    "\n",
    "print(list)\n",
    "\n",
    "print(list[1])\n",
    "\n",
    "print (list[3])"
   ]
  },
  {
   "cell_type": "code",
   "execution_count": 184,
   "metadata": {},
   "outputs": [
    {
     "name": "stdout",
     "output_type": "stream",
     "text": [
      "ei löydy\n",
      "ei löydy\n",
      "sohva löytyy\n"
     ]
    }
   ],
   "source": [
    "furniture = [\"table\", \"shelf\", \"sofa\", \"bed\"]\n",
    "\n",
    "for a in furniture:\n",
    "    if a == 'sofa':\n",
    "        print('sohva löytyy')\n",
    "        break\n",
    "    else:\n",
    "        print('ei löydy')\n",
    "\n",
    "\n"
   ]
  },
  {
   "cell_type": "code",
   "execution_count": 10,
   "metadata": {},
   "outputs": [
    {
     "name": "stdout",
     "output_type": "stream",
     "text": [
      "4\n"
     ]
    }
   ],
   "source": [
    "import random\n",
    "a = random.randint(1,6)\n",
    "print (a)"
   ]
  },
  {
   "cell_type": "code",
   "execution_count": null,
   "metadata": {},
   "outputs": [
    {
     "name": "stdout",
     "output_type": "stream",
     "text": [
      "[4, 4, 5, 5, 4]\n",
      "Sum: 22 Highest:  5\n"
     ]
    }
   ],
   "source": [
    "thrownDiceNumbers = []\n",
    "for _ in range(5):\n",
    "    thrownDiceNumbers.append(random.randint(1,5))\n",
    "print (thrownDiceNumbers)\n",
    "print (\"Sum:\",sum(thrownDiceNumbers), \"Highest:\", max(thrownDiceNumbers))\n"
   ]
  },
  {
   "cell_type": "code",
   "execution_count": 257,
   "metadata": {},
   "outputs": [
    {
     "name": "stdout",
     "output_type": "stream",
     "text": [
      "This is NOT the right one. Rolled [1, 3, 1, 6, 1, 6]\n",
      "This is NOT the right one. Rolled [1, 3, 1, 6, 1, 6]\n",
      "This is NOT the right one. Rolled [1, 3, 1, 6, 1, 6]\n",
      "It is that number 6. Twas 4. roll\n"
     ]
    }
   ],
   "source": [
    "thrownDiceNumbers = []\n",
    "# fo = None\n",
    "\n",
    "for _ in range(6):\n",
    "    thrownDiceNumbers.append(random.randint(1,6))\n",
    "\n",
    "for index, i in enumerate(thrownDiceNumbers):\n",
    "    if i == 6:\n",
    "        # fo = index\n",
    "        print(f'It is that number {i}. Twas {index + 1}. roll')\n",
    "        break\n",
    "    else:\n",
    "        print(f'This is NOT the right one. Rolled {thrownDiceNumbers}')"
   ]
  }
 ],
 "metadata": {
  "kernelspec": {
   "display_name": "Python 3",
   "language": "python",
   "name": "python3"
  },
  "language_info": {
   "codemirror_mode": {
    "name": "ipython",
    "version": 3
   },
   "file_extension": ".py",
   "mimetype": "text/x-python",
   "name": "python",
   "nbconvert_exporter": "python",
   "pygments_lexer": "ipython3",
   "version": "3.13.0"
  }
 },
 "nbformat": 4,
 "nbformat_minor": 2
}
