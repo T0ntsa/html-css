{
 "cells": [
  {
   "cell_type": "code",
   "execution_count": null,
   "metadata": {},
   "outputs": [
    {
     "name": "stdout",
     "output_type": "stream",
     "text": [
      "Printer App\n",
      "This app is made by: Toni\n",
      "300\n",
      "12  *  300  =  3600\n",
      "12  +  300  =  312\n",
      "12  /  300  =  0.04\n",
      "12  -  300  =  -288\n"
     ]
    }
   ],
   "source": [
    "creator = \"Toni\"\n",
    "number1 = 12\n",
    "number2 = 300\n",
    "multiplication = number1 * number2\n",
    "addition = number1 + number2\n",
    "division = number1 / number2\n",
    "substraction = number1 - number2\n",
    "\n",
    "\n",
    "print(\"Printer App\")\n",
    "print('This app is made by: ' + creator)\n",
    "\n",
    "print(number2)\n",
    "#print(number1)\n",
    "\n",
    "print(number1, \" * \", number2, \" = \", multiplication)\n",
    "print(number1, \" + \", number2, \" = \", addition)\n",
    "print(number1, \" / \", number2, \" = \", division)\n",
    "print(number1, \" - \", number2, \" = \", substraction)\n",
    "\n"
   ]
  },
  {
   "cell_type": "markdown",
   "metadata": {},
   "source": [
    "Printer App -assignment to learn basics of Python"
   ]
  }
 ],
 "metadata": {
  "kernelspec": {
   "display_name": "Python 3",
   "language": "python",
   "name": "python3"
  },
  "language_info": {
   "codemirror_mode": {
    "name": "ipython",
    "version": 3
   },
   "file_extension": ".py",
   "mimetype": "text/x-python",
   "name": "python",
   "nbconvert_exporter": "python",
   "pygments_lexer": "ipython3",
   "version": "3.13.0"
  }
 },
 "nbformat": 4,
 "nbformat_minor": 2
}
