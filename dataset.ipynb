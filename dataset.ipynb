{
 "cells": [
  {
   "cell_type": "code",
   "execution_count": 6,
   "metadata": {},
   "outputs": [],
   "source": [
    "import pandas as pd"
   ]
  },
  {
   "cell_type": "markdown",
   "metadata": {},
   "source": [
    "Kagglen ohjeita, vaatii toimenpiteitä että käytettävissä ->\n",
    "import kagglehub\n",
    "# Download latest version\n",
    "path = kagglehub.dataset_download(\"balaka18/email-spam-classification-dataset-csv\")\n",
    "print(\"Path to dataset files:\", path)\n",
    "\n",
    "Omat ohjeet ->\n",
    "Lataa dataset ja .cvs \\python313\\ kansion alle"
   ]
  },
  {
   "cell_type": "markdown",
   "metadata": {},
   "source": []
  },
  {
   "cell_type": "code",
   "execution_count": 12,
   "metadata": {},
   "outputs": [
    {
     "name": "stderr",
     "output_type": "stream",
     "text": [
      "<>:1: SyntaxWarning: invalid escape sequence '\\P'\n",
      "<>:1: SyntaxWarning: invalid escape sequence '\\P'\n",
      "C:\\Users\\OMISTAJA\\AppData\\Local\\Temp\\ipykernel_12040\\4284092193.py:1: SyntaxWarning: invalid escape sequence '\\P'\n",
      "  data1 = pd.read_csv(\"C:\\Python313\\Harkka_koodit\\Harjoitukset_py\\Analysoinnin_perusteet\\emails.csv\", sep=',')\n"
     ]
    },
    {
     "name": "stdout",
     "output_type": "stream",
     "text": [
      "       Email No.  the  to  ect  and  for  of    a  you  hou  ...  connevey  \\\n",
      "11      Email 12   33  28   27   11   10  12  173    6   12  ...         0   \n",
      "17      Email 18   36  21    6   14    7  17  194   25    5  ...         0   \n",
      "54      Email 55   60  38    7   17   23  11  278   17    0  ...         0   \n",
      "107    Email 108   35  32    9   23   15  33  314    0    2  ...         0   \n",
      "111    Email 112   31  26    4   21   16  13  189    3    3  ...         0   \n",
      "...          ...  ...  ..  ...  ...  ...  ..  ...  ...  ...  ...       ...   \n",
      "5140  Email 5141   46  36    4   33   17  11  300   15    1  ...         0   \n",
      "5141  Email 5142   32  29    2   21   15   8  182   10    1  ...         0   \n",
      "5143  Email 5144   37  23    3   12    4  14  144    0    2  ...         0   \n",
      "5161  Email 5162   59  30    4   16    9  31  195    0    2  ...         0   \n",
      "5168  Email 5169   35  27   11    2    6   5  151    4    3  ...         0   \n",
      "\n",
      "      jay  valued  lay  infrastructure  military  allowing  ff  dry  \\\n",
      "11      0       0    0               0         0         0   5    0   \n",
      "17      0       0    0               0         0         0   3    0   \n",
      "54      0       0    0               0         0         0   4    0   \n",
      "107     0       0    6               0         0         0   4    0   \n",
      "111     0       0    0               0         0         0   3    0   \n",
      "...   ...     ...  ...             ...       ...       ...  ..  ...   \n",
      "5140    0       0    3               0         0         0   0    0   \n",
      "5141    0       0    3               0         0         0   0    0   \n",
      "5143    0       0    0               0         0         0   3    0   \n",
      "5161    0       0    5               0         0         0   4    0   \n",
      "5168    0       0    0               0         0         0   1    0   \n",
      "\n",
      "      Prediction  \n",
      "11             0  \n",
      "17             1  \n",
      "54             0  \n",
      "107            1  \n",
      "111            0  \n",
      "...          ...  \n",
      "5140           0  \n",
      "5141           0  \n",
      "5143           0  \n",
      "5161           0  \n",
      "5168           0  \n",
      "\n",
      "[233 rows x 3002 columns]\n"
     ]
    }
   ],
   "source": [
    "data1 = pd.read_csv(\"C:\\Python313\\Harkka_koodit\\Harjoitukset_py\\Analysoinnin_perusteet\\emails.csv\", sep=',')\n",
    "# print(data1)\n",
    "\n",
    "subset_dataa = data1[data1['the'] > 30]\n",
    "print(subset_dataa)"
   ]
  }
 ],
 "metadata": {
  "kernelspec": {
   "display_name": "Python 3",
   "language": "python",
   "name": "python3"
  },
  "language_info": {
   "codemirror_mode": {
    "name": "ipython",
    "version": 3
   },
   "file_extension": ".py",
   "mimetype": "text/x-python",
   "name": "python",
   "nbconvert_exporter": "python",
   "pygments_lexer": "ipython3",
   "version": "3.13.0"
  }
 },
 "nbformat": 4,
 "nbformat_minor": 2
}
