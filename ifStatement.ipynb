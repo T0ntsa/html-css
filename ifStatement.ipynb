{
 "cells": [
  {
   "cell_type": "code",
   "execution_count": 21,
   "metadata": {},
   "outputs": [
    {
     "name": "stdout",
     "output_type": "stream",
     "text": [
      "Number1 is bigger or equal as number2\n",
      "Number1 is not same as number2\n"
     ]
    }
   ],
   "source": [
    "number1 = 1322\n",
    "number2 = 132\n",
    "\n",
    "if(number1 == number2):\n",
    "    print('Number1 is equal as number2')\n",
    "if(number1 < number2):\n",
    "    print('Number1 is smaller than number2')\n",
    "if(number1 >= number2):\n",
    "    print('Number1 is bigger or equal as number2')\n",
    "if(number1 != number2):\n",
    "    print('Number1 is not same as number2')"
   ]
  },
  {
   "cell_type": "code",
   "execution_count": 32,
   "metadata": {},
   "outputs": [
    {
     "name": "stdout",
     "output_type": "stream",
     "text": [
      "Number2 > number3\n",
      "not\n",
      "ehdot toimii myös ilman sulkuja\n"
     ]
    }
   ],
   "source": [
    "\n",
    "number1 = 2\n",
    "number2 = 21\n",
    "number3 = 13\n",
    "\n",
    "if(number1 == number2 and number2 == number3 and number1 == number3):\n",
    "    print('Samat')\n",
    "if(number1 == number2 or number2 == number3):\n",
    "    print('Number1 equals number2 OR number2 equals number3')\n",
    "if(number1 > number2 and number1 > number3):\n",
    "    print('Number1 is the greatest')\n",
    "\n",
    "if(number1 > number2):\n",
    "    print('Number1 > number2')\n",
    "elif(number2 > number3):\n",
    "    print('Number2 > number3')\n",
    "\n",
    "if(number1 == number2):\n",
    "    print('number1 = number2')\n",
    "elif(number1 != number2):\n",
    "    print('not')\n",
    "\n",
    "if number2 <= number2:\n",
    "    print('ehdot toimii myös ilman sulkuja')"
   ]
  },
  {
   "cell_type": "code",
   "execution_count": null,
   "metadata": {},
   "outputs": [
    {
     "name": "stdout",
     "output_type": "stream",
     "text": [
      "nimi1 nimi2 nimi3\n"
     ]
    }
   ],
   "source": [
    "name1 = \"nimi1\"\n",
    "name2 = \"nimi2\"\n",
    "name3 = \"nimi3\"\n",
    "\n",
    "print (name1, name2, name3)\n",
    "if name1 == name2:\n",
    "    print ('Name1 equals to name2')\n"
   ]
  }
 ],
 "metadata": {
  "kernelspec": {
   "display_name": "Python 3",
   "language": "python",
   "name": "python3"
  },
  "language_info": {
   "codemirror_mode": {
    "name": "ipython",
    "version": 3
   },
   "file_extension": ".py",
   "mimetype": "text/x-python",
   "name": "python",
   "nbconvert_exporter": "python",
   "pygments_lexer": "ipython3",
   "version": "3.13.0"
  }
 },
 "nbformat": 4,
 "nbformat_minor": 2
}
